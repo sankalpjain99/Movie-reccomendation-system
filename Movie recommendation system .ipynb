{
 "cells": [
  {
   "cell_type": "code",
   "execution_count": 87,
   "metadata": {},
   "outputs": [
    {
     "data": {
      "text/html": [
       "<div>\n",
       "<style scoped>\n",
       "    .dataframe tbody tr th:only-of-type {\n",
       "        vertical-align: middle;\n",
       "    }\n",
       "\n",
       "    .dataframe tbody tr th {\n",
       "        vertical-align: top;\n",
       "    }\n",
       "\n",
       "    .dataframe thead th {\n",
       "        text-align: right;\n",
       "    }\n",
       "</style>\n",
       "<table border=\"1\" class=\"dataframe\">\n",
       "  <thead>\n",
       "    <tr style=\"text-align: right;\">\n",
       "      <th></th>\n",
       "      <th>movieId</th>\n",
       "      <th>title</th>\n",
       "      <th>genres</th>\n",
       "    </tr>\n",
       "  </thead>\n",
       "  <tbody>\n",
       "    <tr>\n",
       "      <th>0</th>\n",
       "      <td>1</td>\n",
       "      <td>Toy Story</td>\n",
       "      <td>Adventure,Animation,Children,Comedy,Fantasy</td>\n",
       "    </tr>\n",
       "    <tr>\n",
       "      <th>1</th>\n",
       "      <td>2</td>\n",
       "      <td>Jumanji</td>\n",
       "      <td>Adventure,Children,Fantasy</td>\n",
       "    </tr>\n",
       "    <tr>\n",
       "      <th>2</th>\n",
       "      <td>3</td>\n",
       "      <td>Grumpier Old Men</td>\n",
       "      <td>Comedy,Romance</td>\n",
       "    </tr>\n",
       "    <tr>\n",
       "      <th>3</th>\n",
       "      <td>4</td>\n",
       "      <td>Waiting to Exhale</td>\n",
       "      <td>Comedy,Drama,Romance</td>\n",
       "    </tr>\n",
       "    <tr>\n",
       "      <th>4</th>\n",
       "      <td>5</td>\n",
       "      <td>Father of the Bride Part II</td>\n",
       "      <td>Comedy</td>\n",
       "    </tr>\n",
       "  </tbody>\n",
       "</table>\n",
       "</div>"
      ],
      "text/plain": [
       "   movieId                        title  \\\n",
       "0        1                    Toy Story   \n",
       "1        2                      Jumanji   \n",
       "2        3             Grumpier Old Men   \n",
       "3        4            Waiting to Exhale   \n",
       "4        5  Father of the Bride Part II   \n",
       "\n",
       "                                        genres  \n",
       "0  Adventure,Animation,Children,Comedy,Fantasy  \n",
       "1                   Adventure,Children,Fantasy  \n",
       "2                               Comedy,Romance  \n",
       "3                         Comedy,Drama,Romance  \n",
       "4                                       Comedy  "
      ]
     },
     "execution_count": 87,
     "metadata": {},
     "output_type": "execute_result"
    }
   ],
   "source": [
    "import pandas as pd\n",
    "import numpy as np\n",
    "import matplotlib.pyplot as plt\n",
    "import seaborn as sns\n",
    "\n",
    "sns.set_style('dark')\n",
    "movies = pd.read_csv('movies.csv')\n",
    "movies['title'] = movies.apply(lambda x: x['title'].split(' (')[0],axis=1)\n",
    "movies['genres'] = movies['genres'].str.replace('|',',')\n",
    "movies.head()"
   ]
  },
  {
   "cell_type": "code",
   "execution_count": 57,
   "metadata": {},
   "outputs": [],
   "source": [
    "#Plotting graphs to study trends\n",
    "plt.subplot(2,1,1)\n",
    "mean_ratings['counts'].hist(bins=50)\n",
    "plt.subplot(2,1,2)\n",
    "mean_ratings['rating'].hist(bins=50)\n",
    "sns.jointplot(x='rating',y='counts',data=mean_ratings)"
   ]
  },
  {
   "cell_type": "code",
   "execution_count": 101,
   "metadata": {},
   "outputs": [
    {
     "name": "stdout",
     "output_type": "stream",
     "text": [
      "Enter your movie :Toy Story 3\n"
     ]
    },
    {
     "name": "stderr",
     "output_type": "stream",
     "text": [
      "S:\\Anaconda\\lib\\site-packages\\numpy\\lib\\function_base.py:3159: RuntimeWarning: Degrees of freedom <= 0 for slice\n",
      "  c = cov(x, y, rowvar)\n",
      "S:\\Anaconda\\lib\\site-packages\\numpy\\lib\\function_base.py:3093: RuntimeWarning: divide by zero encountered in double_scalars\n",
      "  c *= 1. / np.float64(fact)\n"
     ]
    },
    {
     "name": "stdout",
     "output_type": "stream",
     "text": [
      "We recommend the following movies : \n",
      "\n",
      "Toy Story 3\n",
      "Crow, The\n",
      "Truth About Cats & Dogs, The\n",
      "Grumpier Old Men\n",
      "In the Line of Fire\n",
      "Fish Called Wanda, A\n",
      "Three Musketeers, The\n",
      "Maverick\n",
      "Grosse Pointe Blank\n",
      "Arachnophobia\n"
     ]
    }
   ],
   "source": [
    "ratings = pd.read_csv('ratings.csv')\n",
    "ratings.drop('timestamp',axis=1,inplace=True)\n",
    "movies.head()\n",
    "\n",
    "movie_data = pd.merge(ratings,movies,on='movieId') \n",
    "#movie_data.groupby('title')['rating'].count().sort_values(ascending=False)\n",
    "#print(movie_data)\n",
    "\n",
    "mean_ratings = pd.DataFrame(movie_data.groupby('title')['rating'].mean())\n",
    "mean_ratings['counts'] = movie_data.groupby('title')['rating'].count()\n",
    "\n",
    "movie_by_user = movie_data.pivot_table(index='userId',columns='title',values='rating')\n",
    "#print(movie_by_user)\n",
    "\n",
    "mov = input('Enter your movie :')\n",
    "\n",
    "user_ratings = movie_by_user[mov]\n",
    "user_like = movie_by_user.corrwith(user_ratings)\n",
    "corr_like = pd.DataFrame(user_like,columns=['Correlation'])\n",
    "corr_like.dropna(inplace=True)\n",
    "corr_like.sort_values(by='Correlation',ascending=False)\n",
    "corr_like = corr_like.join(mean_ratings['counts'])\n",
    "mtw = corr_like[corr_like['counts']>50].sort_values('Correlation',ascending=False).head(10).index.tolist()\n",
    "print('We recommend the following movies : \\n')\n",
    "for i in mtw:\n",
    "    print(i)"
   ]
  },
  {
   "cell_type": "code",
   "execution_count": null,
   "metadata": {},
   "outputs": [],
   "source": []
  }
 ],
 "metadata": {
  "kernelspec": {
   "display_name": "Python 3",
   "language": "python",
   "name": "python3"
  },
  "language_info": {
   "codemirror_mode": {
    "name": "ipython",
    "version": 3
   },
   "file_extension": ".py",
   "mimetype": "text/x-python",
   "name": "python",
   "nbconvert_exporter": "python",
   "pygments_lexer": "ipython3",
   "version": "3.6.7"
  }
 },
 "nbformat": 4,
 "nbformat_minor": 2
}
