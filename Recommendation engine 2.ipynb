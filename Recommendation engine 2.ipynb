{
 "cells": [
  {
   "cell_type": "code",
   "execution_count": 32,
   "metadata": {},
   "outputs": [
    {
     "data": {
      "text/html": [
       "<div>\n",
       "<style scoped>\n",
       "    .dataframe tbody tr th:only-of-type {\n",
       "        vertical-align: middle;\n",
       "    }\n",
       "\n",
       "    .dataframe tbody tr th {\n",
       "        vertical-align: top;\n",
       "    }\n",
       "\n",
       "    .dataframe thead th {\n",
       "        text-align: right;\n",
       "    }\n",
       "</style>\n",
       "<table border=\"1\" class=\"dataframe\">\n",
       "  <thead>\n",
       "    <tr style=\"text-align: right;\">\n",
       "      <th></th>\n",
       "      <th>index</th>\n",
       "      <th>movieId</th>\n",
       "      <th>title</th>\n",
       "      <th>genres</th>\n",
       "      <th>Combined_Data</th>\n",
       "    </tr>\n",
       "  </thead>\n",
       "  <tbody>\n",
       "    <tr>\n",
       "      <th>0</th>\n",
       "      <td>0</td>\n",
       "      <td>1</td>\n",
       "      <td>Toy Story</td>\n",
       "      <td>Adventure Animation Children Comedy Fantasy</td>\n",
       "      <td>Toy Story Adventure Animation Children Comedy ...</td>\n",
       "    </tr>\n",
       "    <tr>\n",
       "      <th>1</th>\n",
       "      <td>1</td>\n",
       "      <td>2</td>\n",
       "      <td>Jumanji</td>\n",
       "      <td>Adventure Children Fantasy</td>\n",
       "      <td>Jumanji Adventure Children Fantasy</td>\n",
       "    </tr>\n",
       "    <tr>\n",
       "      <th>2</th>\n",
       "      <td>2</td>\n",
       "      <td>3</td>\n",
       "      <td>Grumpier Old Men</td>\n",
       "      <td>Comedy Romance</td>\n",
       "      <td>Grumpier Old Men Comedy Romance</td>\n",
       "    </tr>\n",
       "    <tr>\n",
       "      <th>3</th>\n",
       "      <td>3</td>\n",
       "      <td>4</td>\n",
       "      <td>Waiting to Exhale</td>\n",
       "      <td>Comedy Drama Romance</td>\n",
       "      <td>Waiting to Exhale Comedy Drama Romance</td>\n",
       "    </tr>\n",
       "    <tr>\n",
       "      <th>4</th>\n",
       "      <td>4</td>\n",
       "      <td>5</td>\n",
       "      <td>Father of the Bride Part II</td>\n",
       "      <td>Comedy</td>\n",
       "      <td>Father of the Bride Part II Comedy</td>\n",
       "    </tr>\n",
       "  </tbody>\n",
       "</table>\n",
       "</div>"
      ],
      "text/plain": [
       "   index  movieId                        title  \\\n",
       "0      0        1                    Toy Story   \n",
       "1      1        2                      Jumanji   \n",
       "2      2        3             Grumpier Old Men   \n",
       "3      3        4            Waiting to Exhale   \n",
       "4      4        5  Father of the Bride Part II   \n",
       "\n",
       "                                        genres  \\\n",
       "0  Adventure Animation Children Comedy Fantasy   \n",
       "1                   Adventure Children Fantasy   \n",
       "2                               Comedy Romance   \n",
       "3                         Comedy Drama Romance   \n",
       "4                                       Comedy   \n",
       "\n",
       "                                       Combined_Data  \n",
       "0  Toy Story Adventure Animation Children Comedy ...  \n",
       "1                 Jumanji Adventure Children Fantasy  \n",
       "2                    Grumpier Old Men Comedy Romance  \n",
       "3             Waiting to Exhale Comedy Drama Romance  \n",
       "4                 Father of the Bride Part II Comedy  "
      ]
     },
     "execution_count": 32,
     "metadata": {},
     "output_type": "execute_result"
    }
   ],
   "source": [
    "import pandas as pd\n",
    "import numpy as np\n",
    "import matplotlib.pyplot as plt\n",
    "import seaborn as sns\n",
    "from sklearn.feature_extraction.text import CountVectorizer\n",
    "from sklearn.feature_extraction.text import TfidfVectorizer\n",
    "from sklearn.metrics.pairwise import cosine_similarity\n",
    "sns.set_style('dark')\n",
    "\n",
    "def combine(x):\n",
    "    return x['title'] + \" \" + x['genres']\n",
    "    \n",
    "movies = pd.read_csv('movies.csv')\n",
    "movies['title'] = movies.apply(lambda x: x['title'].split(' (')[0],axis=1)\n",
    "movies['genres'] = movies['genres'].str.replace('|',' ')\n",
    "movies['Combined_Data'] = movies.apply(lambda x: combine(x),axis=1)\n",
    "movies.reset_index(inplace=True)\n",
    "movies.head()"
   ]
  },
  {
   "cell_type": "code",
   "execution_count": 6,
   "metadata": {
    "scrolled": false
   },
   "outputs": [
    {
     "data": {
      "text/plain": [
       "movieId          0\n",
       "title            0\n",
       "genres           0\n",
       "Combined_Data    0\n",
       "dtype: int64"
      ]
     },
     "execution_count": 6,
     "metadata": {},
     "output_type": "execute_result"
    }
   ],
   "source": [
    "movies.isnull().sum()"
   ]
  },
  {
   "cell_type": "code",
   "execution_count": 61,
   "metadata": {},
   "outputs": [
    {
     "name": "stdout",
     "output_type": "stream",
     "text": [
      "Pls enter your movie on which you want similar movies: Jumanji\n",
      "\n",
      "Top 10 similar movies to Jumanji are:\n",
      "\n",
      "Pan\n",
      "MirrorMask\n",
      "Zathura\n",
      "Ponyo\n",
      "G-Force\n",
      "Seventh Son\n",
      "Halloweentown\n",
      "Pete's Dragon\n",
      "Gulliver's Travels\n",
      "Ewok Adventure, The\n"
     ]
    }
   ],
   "source": [
    "# Using Count Vectorizer\n",
    "cv = CountVectorizer()\n",
    "count_matrix = cv.fit_transform(movies[\"Combined_Data\"])\n",
    "cosine_sim = cosine_similarity(count_matrix)\n",
    "#cosine_sim\n",
    "user_movie = input('Pls enter your movie on which you want similar movies: ')\n",
    "user_index = movies[movies.title == user_movie].index.values[0]\n",
    "similar_movies = list(enumerate(cosine_sim[user_index]))\n",
    "sorted_similar_movies = sorted(similar_movies,key=lambda x:x[1],reverse=True)[1:]\n",
    "#sorted_similar_movies\n",
    "\n",
    "print(\"\\nTop 10 similar movies to \"+ user_movie +\" are:\\n\")\n",
    "for i in range(10):\n",
    "    print((movies['title'][movies.index == (sorted_similar_movies[i][0]) ]).values[0])\n"
   ]
  },
  {
   "cell_type": "code",
   "execution_count": 63,
   "metadata": {},
   "outputs": [
    {
     "name": "stdout",
     "output_type": "stream",
     "text": [
      "Pls enter your movie on which you want similar movies: Jumanji\n",
      "\n",
      "Top 10 similar movies to Jumanji are:\n",
      "\n",
      "Jumanji: Welcome to the Jungle\n",
      "Wild, The\n",
      "G-Force\n",
      "Pan\n",
      "D.A.R.Y.L.\n",
      "Ewok Adventure, The\n",
      "Home\n",
      "Halloweentown\n",
      "8 1/2\n",
      "MirrorMask\n"
     ]
    }
   ],
   "source": [
    "#Using TFIDF\n",
    "tf = TfidfVectorizer()\n",
    "count_matrix = tf.fit_transform(movies[\"Combined_Data\"])\n",
    "cosine_sim_tf = cosine_similarity(count_matrix)\n",
    "#cosine_sim_tf\n",
    "user_movie = input('Pls enter your movie on which you want similar movies: ')\n",
    "user_index = movies[movies.title == user_movie].index.values[0]\n",
    "similar_movies = list(enumerate(cosine_sim_tf[user_index]))\n",
    "sorted_similar_movies = sorted(similar_movies,key=lambda x:x[1],reverse=True)[1:]\n",
    "#sorted_similar_movies\n",
    "\n",
    "print(\"\\nTop 10 similar movies to \"+ user_movie +\" are:\\n\")\n",
    "for i in range(10):\n",
    "    print((movies['title'][movies.index == (sorted_similar_movies[i][0]) ]).values[0])\n"
   ]
  },
  {
   "cell_type": "code",
   "execution_count": null,
   "metadata": {},
   "outputs": [],
   "source": []
  },
  {
   "cell_type": "code",
   "execution_count": null,
   "metadata": {},
   "outputs": [],
   "source": []
  }
 ],
 "metadata": {
  "kernelspec": {
   "display_name": "Python 3",
   "language": "python",
   "name": "python3"
  },
  "language_info": {
   "codemirror_mode": {
    "name": "ipython",
    "version": 3
   },
   "file_extension": ".py",
   "mimetype": "text/x-python",
   "name": "python",
   "nbconvert_exporter": "python",
   "pygments_lexer": "ipython3",
   "version": "3.6.7"
  }
 },
 "nbformat": 4,
 "nbformat_minor": 2
}
